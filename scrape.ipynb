{
 "cells": [
  {
   "cell_type": "code",
   "execution_count": 7,
   "metadata": {},
   "outputs": [],
   "source": [
    "import requests\n",
    "from bs4 import BeautifulSoup\n",
    "import re\n",
    "import pandas as pd\n",
    "import time\n",
    "import random"
   ]
  },
  {
   "cell_type": "code",
   "execution_count": 8,
   "metadata": {},
   "outputs": [],
   "source": [
    "all_apartment_links = [] # stores apartment links\n",
    "all_description = [] # stores number of bedrooms in the apartment\n",
    "all_address = [] # stores address of apartment\n",
    "all_price = [] # stores the listing price of apartment"
   ]
  },
  {
   "cell_type": "code",
   "execution_count": 20,
   "metadata": {},
   "outputs": [
    {
     "name": "stdout",
     "output_type": "stream",
     "text": [
      "Page:  0\n",
      "Pass 2\n",
      "[]\n",
      "Page:  1\n",
      "Pass 2\n",
      "[]\n",
      "Data scraping complete and saved to 'sold_properties_london.csv'\n"
     ]
    }
   ],
   "source": [
    "import requests\n",
    "from bs4 import BeautifulSoup\n",
    "import pandas as pd\n",
    "import time\n",
    "import random\n",
    "\n",
    "headers = {\n",
    "    \"User-Agent\": \"Mozilla/5.0 (Windows NT 10.0; Win64; x64) AppleWebKit/537.36 (KHTML, like Gecko) Chrome/89.0.4389.114 Safari/537.36\"\n",
    "}\n",
    "\n",
    "all_apartment_links = []\n",
    "all_descriptions = []\n",
    "all_addresses = []\n",
    "all_prices = []\n",
    "\n",
    "for page in range(2):  # Adjust as needed\n",
    "    print(\"Page: \", page)\n",
    "    url = f\"https://www.rightmove.co.uk/house-prices/se25.html?soldIn=2&page={page}\"\n",
    "    response = requests.get(url, headers=headers)\n",
    "    response.raise_for_status()\n",
    "\n",
    "    soup = BeautifulSoup(response.text, \"html.parser\")\n",
    "\n",
    "    # Update the class based on actual inspection\n",
    "    properties = soup.find_all('a', class_='title')\n",
    "    print(\"Pass 2\")\n",
    "    print(properties)\n",
    "\n",
    "    for property in properties:\n",
    "        print(\"Property wala loop\", property)\n",
    "        link = property.find('a', href=True)['href']\n",
    "        name = property.find('div', {'class': 'subTitle bedrooms'}).text.strip()\n",
    "        type = property.find('span', {'class': 'propertyType'}).text.strip()\n",
    "        price = property.find('div', {'class': 'propertyCard-priceValue'}).text.strip()\n",
    "\n",
    "        all_apartment_links.append(link)\n",
    "        all_descriptions.append(name)\n",
    "        all_addresses.append(type)\n",
    "        all_prices.append(price)\n",
    "        \n",
    "        # Introduce delays\n",
    "        time.sleep(random.uniform(0.5, 1.5))\n",
    "\n",
    "df = pd.DataFrame({\n",
    "    'Link': all_apartment_links,\n",
    "    'Description': all_descriptions,\n",
    "    'Address': all_addresses,\n",
    "    'Price': all_prices\n",
    "})\n",
    "df.to_csv('sold_properties_london.csv', index=False)\n",
    "\n",
    "print(\"Data scraping complete and saved to 'sold_properties_london.csv'\")\n"
   ]
  },
  {
   "cell_type": "code",
   "execution_count": null,
   "metadata": {},
   "outputs": [],
   "source": []
  }
 ],
 "metadata": {
  "kernelspec": {
   "display_name": "Python 3",
   "language": "python",
   "name": "python3"
  },
  "language_info": {
   "codemirror_mode": {
    "name": "ipython",
    "version": 3
   },
   "file_extension": ".py",
   "mimetype": "text/x-python",
   "name": "python",
   "nbconvert_exporter": "python",
   "pygments_lexer": "ipython3",
   "version": "3.10.4"
  }
 },
 "nbformat": 4,
 "nbformat_minor": 2
}
